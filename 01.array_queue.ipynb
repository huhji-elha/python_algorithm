{
 "cells": [
  {
   "cell_type": "code",
   "execution_count": null,
   "metadata": {},
   "outputs": [],
   "source": [
    "# 작은 원리를 이해하고 조금씩 확대하는 연습을 하자!\n",
    "## 모방해서 내 것으로 만들기!\n",
    "### 프로그램 상에서 어떤 문제를 푸는 정답은 없으나 얼마나 시간과 저장공간을 단축하는가에 따라\n",
    "# 좋고 나쁜 알고리즘이 갈린다.\n",
    "# 따라서 알고리즘을 어떻게 사용하느냐에 따라 성능이 천차만별이 된다."
   ]
  },
  {
   "cell_type": "markdown",
   "metadata": {},
   "source": [
    "## 1. Array"
   ]
  },
  {
   "cell_type": "markdown",
   "metadata": {},
   "source": [
    "* 데이터를 나열하고 각 데이터를 인덱스에 대응하도록 구성한 데이터 구조이다.\n",
    "* 파이썬에서는 리스트 타입이 배열 기능을 제공하고 있다.\n",
    "\n",
    "#### 배열은 왜 필요할까?\n",
    "* 같은 종류의 데이터를 효율적으로 관리하기 위해 사용\n",
    "* 배열은 같은 종류의 데이터를 순차적으로 저장한다.\n",
    "\n",
    "- 배열의 장점\n",
    "   * 빠른 접근 가능 (index로 접근하기 때문)\n",
    "- 배열의 단점\n",
    "   * 연관된 데이터의 추가, 삭제가 어렵다.\n",
    "   * 가변적인 데이터는 사용이 어렵다. (다시 새 배열을 생성해야함)\n"
   ]
  },
  {
   "cell_type": "markdown",
   "metadata": {},
   "source": [
    "사실 파이썬에서는 위 배열의 단점이 와닿지 않는다. 어느 정도의 단점을 커버하기 때문.\n",
    "파이썬과 C의 배열 코드를 비교해보면 다음과 같다."
   ]
  },
  {
   "cell_type": "code",
   "execution_count": null,
   "metadata": {},
   "outputs": [],
   "source": [
    "# C 언어에서의 배열 생성과 출력\n",
    "'''\n",
    "include <stdio h>\n",
    "\n",
    "int main(int args, char * argv[])\n",
    "{\n",
    "   char country[3] = \"US\";\n",
    "   printf(\"%c%c\\n\", country[0], country[1]);\n",
    "   printf(\"%s\\n\", country);\n",
    "   return 0;\n",
    "}\n",
    "'''"
   ]
  },
  {
   "cell_type": "code",
   "execution_count": null,
   "metadata": {},
   "outputs": [],
   "source": [
    "# python에서의 배열 생성과 출력\n",
    "country = \"US\"\n",
    "print(country)"
   ]
  },
  {
   "cell_type": "markdown",
   "metadata": {},
   "source": [
    "파이썬에서의 배열은 \"리스트\"를 활용하는 것이다."
   ]
  },
  {
   "cell_type": "code",
   "execution_count": 6,
   "metadata": {},
   "outputs": [
    {
     "name": "stdout",
     "output_type": "stream",
     "text": [
      "[1, 2, 3, 4, 5]\n"
     ]
    }
   ],
   "source": [
    "# 1차원 배열; 리스트로 구현\n",
    "data = [1,2,3,4,5]\n",
    "print(data)"
   ]
  },
  {
   "cell_type": "code",
   "execution_count": 7,
   "metadata": {},
   "outputs": [
    {
     "name": "stdout",
     "output_type": "stream",
     "text": [
      "[[1, 2, 3], [4, 5, 6]]\n"
     ]
    }
   ],
   "source": [
    "# 2차원 배열; 리스트로 구현\n",
    "data2 = [[1,2,3],[4,5,6]]\n",
    "print(data2)"
   ]
  },
  {
   "cell_type": "markdown",
   "metadata": {},
   "source": [
    "## Queue"
   ]
  },
  {
   "cell_type": "markdown",
   "metadata": {},
   "source": [
    "큐 구조 : 가장 먼저 넣은 데이터를 가장 먼저 꺼낼 수 있는 구조를 말한다.\n",
    "* ex. 음식점에서 가장 먼저 줄을 선 사람이 가장 먼저 입장한다. 줄을 서는 행위와 유사하다!\n",
    "* FIFO(First-in, First-out), LILO(Last-in, Last-out) 정책을 기본적으로 사용한다.\n",
    "\n",
    "큐 구조에 있는 데이터를 꺼낼 때는 인덱스 값을 사용하지 않는다. 꺼내고 넣는 행위만 있다."
   ]
  },
  {
   "cell_type": "markdown",
   "metadata": {},
   "source": [
    "알아둘 용어 :\n",
    "    * 큐에 데이터를 넣는 기능 (Enqueue)\n",
    "    * 큐에서 데이터를 빼는 기능 (Dequeue)"
   ]
  },
  {
   "cell_type": "markdown",
   "metadata": {},
   "source": [
    "python에서의 queue 라이브러리 사용하기\n",
    "* Queue() : 가장 일반적인 큐 자료구조\n",
    "* LifoQueue() : 나중에 입력된 데이터가 먼저 출력되는 큐 (스택 구조라고 생각하면 된다)\n",
    "* PriorityQueue() : 데이터마다 우선순위를 넣어서, 우선순위가 높은 순으로 데이터 출력\n",
    "\n",
    "등 일반적인 큐 외에 다양한 정책이 적용된 큐들이 있다."
   ]
  },
  {
   "cell_type": "markdown",
   "metadata": {},
   "source": [
    "#### basic Queue"
   ]
  },
  {
   "cell_type": "code",
   "execution_count": 15,
   "metadata": {},
   "outputs": [],
   "source": [
    "import queue\n",
    "\n",
    "data_queue = queue.Queue()\n",
    "# data input\n",
    "data_queue.put(\"string examples\")\n",
    "data_queue.put(123)"
   ]
  },
  {
   "cell_type": "code",
   "execution_count": 16,
   "metadata": {},
   "outputs": [
    {
     "data": {
      "text/plain": [
       "2"
      ]
     },
     "execution_count": 16,
     "metadata": {},
     "output_type": "execute_result"
    }
   ],
   "source": [
    "data_queue.qsize()"
   ]
  },
  {
   "cell_type": "code",
   "execution_count": 17,
   "metadata": {},
   "outputs": [
    {
     "data": {
      "text/plain": [
       "'string examples'"
      ]
     },
     "execution_count": 17,
     "metadata": {},
     "output_type": "execute_result"
    }
   ],
   "source": [
    "data_queue.get()"
   ]
  },
  {
   "cell_type": "code",
   "execution_count": 19,
   "metadata": {},
   "outputs": [
    {
     "data": {
      "text/plain": [
       "1"
      ]
     },
     "execution_count": 19,
     "metadata": {},
     "output_type": "execute_result"
    }
   ],
   "source": [
    "data_queue.qsize()"
   ]
  },
  {
   "cell_type": "code",
   "execution_count": 20,
   "metadata": {},
   "outputs": [
    {
     "data": {
      "text/plain": [
       "123"
      ]
     },
     "execution_count": 20,
     "metadata": {},
     "output_type": "execute_result"
    }
   ],
   "source": [
    "data_queue.get()"
   ]
  },
  {
   "cell_type": "code",
   "execution_count": 21,
   "metadata": {},
   "outputs": [
    {
     "data": {
      "text/plain": [
       "0"
      ]
     },
     "execution_count": 21,
     "metadata": {},
     "output_type": "execute_result"
    }
   ],
   "source": [
    "data_queue.qsize()"
   ]
  },
  {
   "cell_type": "markdown",
   "metadata": {},
   "source": [
    "#### LifoQueue"
   ]
  },
  {
   "cell_type": "code",
   "execution_count": 24,
   "metadata": {},
   "outputs": [],
   "source": [
    "data_lifoqueue = queue.LifoQueue()\n",
    "\n",
    "data_lifoqueue.put(\"abc\")\n",
    "data_lifoqueue.put(111)"
   ]
  },
  {
   "cell_type": "code",
   "execution_count": 25,
   "metadata": {},
   "outputs": [
    {
     "data": {
      "text/plain": [
       "2"
      ]
     },
     "execution_count": 25,
     "metadata": {},
     "output_type": "execute_result"
    }
   ],
   "source": [
    "data_lifoqueue.qsize()"
   ]
  },
  {
   "cell_type": "code",
   "execution_count": 26,
   "metadata": {},
   "outputs": [
    {
     "data": {
      "text/plain": [
       "111"
      ]
     },
     "execution_count": 26,
     "metadata": {},
     "output_type": "execute_result"
    }
   ],
   "source": [
    "# 가장 마지막에 넣은 것이 먼저 나온다.\n",
    "data_lifoqueue.get()"
   ]
  },
  {
   "cell_type": "markdown",
   "metadata": {},
   "source": [
    "#### PriorityQueue"
   ]
  },
  {
   "cell_type": "code",
   "execution_count": 28,
   "metadata": {},
   "outputs": [],
   "source": [
    "data_pqueue = queue.PriorityQueue()\n",
    "\n",
    "# 우선순위를 같이 매겨서 넣어야한다.\n",
    "data_pqueue.put((10, \"play\"))\n",
    "data_pqueue.put((5, \"sleep\"))\n",
    "data_pqueue.put((1, \"study\"))"
   ]
  },
  {
   "cell_type": "code",
   "execution_count": 29,
   "metadata": {},
   "outputs": [
    {
     "data": {
      "text/plain": [
       "3"
      ]
     },
     "execution_count": 29,
     "metadata": {},
     "output_type": "execute_result"
    }
   ],
   "source": [
    "data_pqueue.qsize()"
   ]
  },
  {
   "cell_type": "code",
   "execution_count": 30,
   "metadata": {},
   "outputs": [
    {
     "data": {
      "text/plain": [
       "(1, 'study')"
      ]
     },
     "execution_count": 30,
     "metadata": {},
     "output_type": "execute_result"
    }
   ],
   "source": [
    "data_pqueue.get()"
   ]
  },
  {
   "cell_type": "code",
   "execution_count": 31,
   "metadata": {},
   "outputs": [
    {
     "data": {
      "text/plain": [
       "(5, 'sleep')"
      ]
     },
     "execution_count": 31,
     "metadata": {},
     "output_type": "execute_result"
    }
   ],
   "source": [
    "data_pqueue.get()"
   ]
  },
  {
   "cell_type": "markdown",
   "metadata": {},
   "source": [
    "어디에 큐가 많이 쓰일까?\n",
    "* 멀티 태스킹을 위한 프로세스 스케줄링 방식을 구현하기 위해 많이 사용된다. (운영체제)\n",
    "* 큐의 경우에는 장단점 보다 \"큐의 활용 예\"로 프로세스 스케줄링을 함께 이해해두자!"
   ]
  },
  {
   "cell_type": "markdown",
   "metadata": {},
   "source": [
    "#### enqueue, dequeue 기능 구현하기"
   ]
  },
  {
   "cell_type": "code",
   "execution_count": 37,
   "metadata": {},
   "outputs": [],
   "source": [
    "queue_list = list()\n",
    "\n",
    "def enqueue(data) :\n",
    "    queue_list.append(data)\n",
    "def dequeue() :\n",
    "    data = queue_list[0]\n",
    "    del queue_list[0]\n",
    "    return data"
   ]
  },
  {
   "cell_type": "code",
   "execution_count": 41,
   "metadata": {},
   "outputs": [
    {
     "name": "stdout",
     "output_type": "stream",
     "text": [
      "[0, 1, 2, 3, 4, 5, 6, 7, 8, 9]\n"
     ]
    }
   ],
   "source": [
    "for index in range(10) :\n",
    "    enqueue(index)\n",
    "print(queue_list)"
   ]
  },
  {
   "cell_type": "code",
   "execution_count": 42,
   "metadata": {},
   "outputs": [
    {
     "data": {
      "text/plain": [
       "0"
      ]
     },
     "execution_count": 42,
     "metadata": {},
     "output_type": "execute_result"
    }
   ],
   "source": [
    "dequeue()"
   ]
  }
 ],
 "metadata": {
  "kernelspec": {
   "display_name": "Python 3",
   "language": "python",
   "name": "python3"
  },
  "language_info": {
   "codemirror_mode": {
    "name": "ipython",
    "version": 3
   },
   "file_extension": ".py",
   "mimetype": "text/x-python",
   "name": "python",
   "nbconvert_exporter": "python",
   "pygments_lexer": "ipython3",
   "version": "3.7.3"
  }
 },
 "nbformat": 4,
 "nbformat_minor": 2
}
